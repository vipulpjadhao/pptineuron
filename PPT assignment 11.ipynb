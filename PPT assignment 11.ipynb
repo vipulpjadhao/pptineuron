{
 "cells": [
  {
   "cell_type": "code",
   "execution_count": 10,
   "id": "c6d9267d",
   "metadata": {},
   "outputs": [
    {
     "name": "stdout",
     "output_type": "stream",
     "text": [
      "2\n",
      "2\n"
     ]
    }
   ],
   "source": [
    "'''Question 1\n",
    "\n",
    "Given a non-negative integer x, return the square root of x rounded down to the nearest integer. The returned integer should be non-negative as well.\n",
    "You must not use any built-in exponent function or operator.\n",
    "For example, do not use pow(x, 0.5) in c++ or x ** 0.5 in python.\n",
    "Example 1:\n",
    "Input: x = 4\n",
    "Output: 2\n",
    "Explanation: The square root of 4 is 2, so we return 2.\n",
    "\n",
    "​\n",
    "Example 2:\n",
    "Input: x = 8\n",
    "Output: 2\n",
    "Explanation: The square root of 8 is 2.82842..., and since we round it down to the nearest integer, 2 is returned.'''\n",
    "\n",
    "def squareRoot(x):\n",
    "    if x == 0:\n",
    "        return 0\n",
    "\n",
    "    left = 1\n",
    "    right = x\n",
    "\n",
    "    while left <= right:\n",
    "        mid = left + (right - left) // 2\n",
    "        if mid * mid == x:\n",
    "            return mid\n",
    "        elif mid * mid < x:\n",
    "            left = mid + 1\n",
    "        else:\n",
    "            right = mid - 1\n",
    "\n",
    "    return right\n",
    "print(squareRoot(4))  \n",
    "print(squareRoot(8))  \n"
   ]
  },
  {
   "cell_type": "code",
   "execution_count": 3,
   "id": "a0c3a7f5",
   "metadata": {},
   "outputs": [
    {
     "name": "stdout",
     "output_type": "stream",
     "text": [
      "2\n",
      "5\n"
     ]
    }
   ],
   "source": [
    "'''Question 2\n",
    "\n",
    "A peak element is an element that is strictly greater than its neighbors.\n",
    "Given a 0-indexed integer array nums, find a peak element, and return its index. If the array contains multiple peaks, return the index to any of the peaks.\n",
    "You may imagine that nums[-1] = nums[n] = -∞. In other words, an element is always considered to be strictly greater than a neighbor that is outside the array.\n",
    "You must write an algorithm that runs in O(log n) time.\n",
    "Example 1:\n",
    "Input: nums = [1,2,3,1]\n",
    "Output: 2\n",
    "Explanation: 3 is a peak element and your function should return the index number 2.\n",
    "​\n",
    "Example 2:\n",
    "Input: nums = [1,2,1,3,5,6,4]\n",
    "Output: 5\n",
    "Explanation: Your function can return either index number 1 where the peak element is 2, or index number 5 where the peak element is 6.'''\n",
    "\n",
    "\n",
    "def findPeakElement(nums):\n",
    "    left = 0\n",
    "    right = len(nums) - 1\n",
    "\n",
    "    while left < right:\n",
    "        mid = left + (right - left) // 2\n",
    "\n",
    "        if nums[mid] < nums[mid + 1]:\n",
    "            left = mid + 1\n",
    "        else:\n",
    "            right = mid\n",
    "\n",
    "    return left\n",
    "print(findPeakElement([1, 2, 3, 1])) \n",
    "print(findPeakElement([1, 2, 1, 3, 5, 6, 4])) \n"
   ]
  },
  {
   "cell_type": "code",
   "execution_count": 4,
   "id": "ffe6d5a4",
   "metadata": {},
   "outputs": [
    {
     "name": "stdout",
     "output_type": "stream",
     "text": [
      "2\n",
      "2\n",
      "8\n"
     ]
    }
   ],
   "source": [
    "'''\n",
    "Question 3\n",
    "\n",
    "\n",
    "Given an array nums containing n distinct numbers in the range [0, n], return the only number in the range that is missing from the array.\n",
    "Example 1:\n",
    "Input: nums = [3,0,1]\n",
    "Output: 2\n",
    "Explanation: n = 3 since there are 3 numbers, so all numbers are in the range [0,3]. 2 is the missing number in the range since it does not appear in nums.\n",
    "\n",
    "​\n",
    "Example 2:\n",
    "Input: nums = [0,1]\n",
    "Output: 2\n",
    "Explanation: n = 2 since there are 2 numbers, so all numbers are in the range [0,2]. 2 is the missing number in the range since it does not appear in nums.\n",
    "\n",
    "​\n",
    "Example 3:\n",
    "Input: nums = [9,6,4,2,3,5,7,0,1]\n",
    "Output: 8\n",
    "Explanation: n = 9 since there are 9 numbers, so all numbers are in the range [0,9]. 8 is the missing number in the range since it does not appear in nums.'''\n",
    "\n",
    "def missingNumber(nums):\n",
    "    missing = len(nums) \n",
    "\n",
    "    for i, num in enumerate(nums):\n",
    "        missing ^= i ^ num \n",
    "\n",
    "    return missing\n",
    "\n",
    "print(missingNumber([3, 0, 1]))\n",
    "print(missingNumber([0, 1])) \n",
    "print(missingNumber([9, 6, 4, 2, 3, 5, 7, 0, 1])) \n"
   ]
  },
  {
   "cell_type": "code",
   "execution_count": 5,
   "id": "19c81bed",
   "metadata": {},
   "outputs": [
    {
     "name": "stdout",
     "output_type": "stream",
     "text": [
      "2\n",
      "3\n"
     ]
    }
   ],
   "source": [
    "'''Question 4\n",
    "Given an array of integers nums containing n + 1 integers where each integer is in the range [1, n] inclusive.\n",
    "There is only one repeated number in nums, return this repeated number.\n",
    "You must solve the problem without modifying the array nums and uses only constant extra space.\n",
    "Example 1:\n",
    "Input: nums = [1,3,4,2,2]\n",
    "Output: 2\n",
    "\n",
    "​\n",
    "Example 2:\n",
    "Input: nums = [3,1,3,4,2]\n",
    "Output: 3'''\n",
    "\n",
    "\n",
    "def findDuplicate(nums):\n",
    "   \n",
    "    tortoise = hare = nums[0]\n",
    "    \n",
    "    while True:\n",
    "        tortoise = nums[tortoise]\n",
    "        hare = nums[nums[hare]]\n",
    "        if tortoise == hare:\n",
    "            break\n",
    " \n",
    "    ptr1 = nums[0]\n",
    "    ptr2 = tortoise\n",
    "    \n",
    "    while ptr1 != ptr2:\n",
    "        ptr1 = nums[ptr1]\n",
    "        ptr2 = nums[ptr2]\n",
    "    \n",
    "    return ptr1\n",
    "print(findDuplicate([1, 3, 4, 2, 2]))  \n",
    "print(findDuplicate([3, 1, 3, 4, 2])) \n"
   ]
  },
  {
   "cell_type": "code",
   "execution_count": 6,
   "id": "a5ba4f27",
   "metadata": {},
   "outputs": [
    {
     "name": "stdout",
     "output_type": "stream",
     "text": [
      "[2]\n",
      "[9, 4]\n"
     ]
    }
   ],
   "source": [
    "'''Question 5\n",
    "\n",
    "Given two integer arrays nums1 and nums2, return an array of their intersection. Each element in the result must be unique and you may return the result in any order.\n",
    "Example 1:\n",
    "Input: nums1 = [1,2,2,1], nums2 = [2,2]\n",
    "Output: [2]\n",
    "\n",
    "​\n",
    "Example 2:\n",
    "Input: nums1 = [4,9,5], nums2 = [9,4,9,8,4]\n",
    "Output: [9,4]\n",
    "Explanation: [4,9] is also accepted.'''\n",
    "\n",
    "\n",
    "def intersection(nums1, nums2):\n",
    "    set1 = set(nums1)\n",
    "    result = []\n",
    "\n",
    "    for num in nums2:\n",
    "        if num in set1:\n",
    "            result.append(num)\n",
    "            set1.remove(num)  \n",
    "\n",
    "    return result\n",
    "\n",
    "print(intersection([1, 2, 2, 1], [2, 2])) \n",
    "print(intersection([4, 9, 5], [9, 4, 9, 8, 4])) \n"
   ]
  },
  {
   "cell_type": "code",
   "execution_count": 7,
   "id": "33c2111b",
   "metadata": {},
   "outputs": [
    {
     "name": "stdout",
     "output_type": "stream",
     "text": [
      "1\n",
      "0\n",
      "11\n"
     ]
    }
   ],
   "source": [
    "'''Question 6\n",
    "\n",
    "Suppose an array of length n sorted in ascending order is rotated between 1 and n times. For example, the array nums = [0,1,2,4,5,6,7] might become:\n",
    "[4,5,6,7,0,1,2] if it was rotated 4 times.\n",
    "[0,1,2,4,5,6,7] if it was rotated 7 times.\n",
    "Notice that rotating an array [a[0], a[1], a[2], ..., a[n-1]] 1 time results in the array [a[n-1], a[0], a[1], a[2], ..., a[n-2]].\n",
    "Given the sorted rotated array nums of unique elements, return the minimum element of this array.\n",
    "You must write an algorithm that runs in O(log n) time.\n",
    "Example 1:\n",
    "Input: nums = [3,4,5,1,2]\n",
    "Output: 1\n",
    "Explanation: The original array was [1,2,3,4,5] rotated 3 times.\n",
    "\n",
    "​\n",
    "Example 2:\n",
    "Input: nums = [4,5,6,7,0,1,2]\n",
    "Output: 0\n",
    "Explanation: The original array was [0,1,2,4,5,6,7] and it was rotated 4 times.\n",
    "\n",
    "​\n",
    "Example 3:\n",
    "Input: nums = [11,13,15,17]\n",
    "Output: 11\n",
    "Explanation: The original array was [11,13,15,17] and it was rotated 4 times.'''\n",
    "\n",
    "\n",
    "def findMin(nums):\n",
    "    left = 0\n",
    "    right = len(nums) - 1\n",
    "\n",
    "    while left < right:\n",
    "        mid = left + (right - left) // 2\n",
    "\n",
    "        if nums[mid] > nums[right]:\n",
    "            left = mid + 1\n",
    "        else:\n",
    "            right = mid\n",
    "\n",
    "    return nums[left]\n",
    "print(findMin([3, 4, 5, 1, 2]))\n",
    "print(findMin([4, 5, 6, 7, 0, 1, 2]))\n",
    "print(findMin([11, 13, 15, 17]))\n"
   ]
  },
  {
   "cell_type": "code",
   "execution_count": 8,
   "id": "94598f5b",
   "metadata": {},
   "outputs": [
    {
     "name": "stdout",
     "output_type": "stream",
     "text": [
      "[3, 4]\n",
      "[-1, -1]\n",
      "[-1, -1]\n"
     ]
    }
   ],
   "source": [
    "'''Question 7\n",
    "\n",
    "Given an array of integers nums sorted in non-decreasing order, find the starting and ending position of a given target value.\n",
    "If target is not found in the array, return [-1, -1].\n",
    "You must write an algorithm with O(log n) runtime complexity.\n",
    "Example 1:\n",
    "Input: nums = [5,7,7,8,8,10], target = 8\n",
    "Output: [3,4]\n",
    "\n",
    "​\n",
    "Example 2:\n",
    "Input: nums = [5,7,7,8,8,10], target = 6\n",
    "Output: [-1,-1]\n",
    "\n",
    "​\n",
    "Example 3:\n",
    "Input: nums = [], target = 0\n",
    "Output: [-1,-1]'''\n",
    "\n",
    "\n",
    "def searchRange(nums, target):\n",
    "    def findLeftmost(nums, target):\n",
    "        left = 0\n",
    "        right = len(nums)\n",
    "        while left < right:\n",
    "            mid = (left + right) // 2\n",
    "            if nums[mid] >= target:\n",
    "                right = mid\n",
    "            else:\n",
    "                left = mid + 1\n",
    "        return left\n",
    "\n",
    "    def findRightmost(nums, target):\n",
    "        left = 0\n",
    "        right = len(nums)\n",
    "        while left < right:\n",
    "            mid = (left + right) // 2\n",
    "            if nums[mid] > target:\n",
    "                right = mid\n",
    "            else:\n",
    "                left = mid + 1\n",
    "        return left - 1\n",
    "\n",
    "    leftmost = findLeftmost(nums, target)\n",
    "    if leftmost == len(nums) or nums[leftmost] != target:\n",
    "        return [-1, -1]\n",
    "    \n",
    "    rightmost = findRightmost(nums, target)\n",
    "    \n",
    "    return [leftmost, rightmost]\n",
    "\n",
    "print(searchRange([5, 7, 7, 8, 8, 10], 8)) \n",
    "print(searchRange([5, 7, 7, 8, 8, 10], 6)) \n",
    "print(searchRange([], 0))\n"
   ]
  },
  {
   "cell_type": "code",
   "execution_count": 11,
   "id": "e529f2f4",
   "metadata": {},
   "outputs": [
    {
     "name": "stdout",
     "output_type": "stream",
     "text": [
      "[2, 2]\n",
      "[9, 4]\n"
     ]
    }
   ],
   "source": [
    "'''Question 8\n",
    "Given two integer arrays nums1 and nums2, return an array of their intersection. Each element in the result must appear as many times as it shows in both arrays and you may return the result in any order.\n",
    "Example 1:\n",
    "Input: nums1 = [1,2,2,1], nums2 = [2,2]\n",
    "Output: [2,2]\n",
    "\n",
    "​\n",
    "Example 2:\n",
    "Input: nums1 = [4,9,5], nums2 = [9,4,9,8,4]\n",
    "Output: [4,9]\n",
    "Explanation: [9,4] is also accepted.'''\n",
    "\n",
    "def intersecting(nums1, nums2):\n",
    "    frequency = {}\n",
    "    result = []\n",
    "\n",
    "\n",
    "    for num in nums1:\n",
    "        frequency[num] = frequency.get(num, 0) + 1\n",
    "\n",
    "    for num in nums2:\n",
    "        if num in frequency and frequency[num] > 0:\n",
    "            result.append(num)\n",
    "            frequency[num] -= 1\n",
    "\n",
    "    return result\n",
    "\n",
    "print(intersecting([1, 2, 2, 1], [2, 2]))  \n",
    "print(intersecting([4, 9, 5], [9, 4, 9, 8, 4])) \n"
   ]
  },
  {
   "cell_type": "code",
   "execution_count": null,
   "id": "89bb2be5",
   "metadata": {},
   "outputs": [],
   "source": []
  }
 ],
 "metadata": {
  "kernelspec": {
   "display_name": "Python 3 (ipykernel)",
   "language": "python",
   "name": "python3"
  },
  "language_info": {
   "codemirror_mode": {
    "name": "ipython",
    "version": 3
   },
   "file_extension": ".py",
   "mimetype": "text/x-python",
   "name": "python",
   "nbconvert_exporter": "python",
   "pygments_lexer": "ipython3",
   "version": "3.9.12"
  }
 },
 "nbformat": 4,
 "nbformat_minor": 5
}
