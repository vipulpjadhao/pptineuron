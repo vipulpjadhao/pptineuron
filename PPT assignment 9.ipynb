{
 "cells": [
  {
   "cell_type": "code",
   "execution_count": 1,
   "id": "2bfa6c95",
   "metadata": {},
   "outputs": [
    {
     "name": "stdout",
     "output_type": "stream",
     "text": [
      "True\n",
      "True\n",
      "False\n"
     ]
    }
   ],
   "source": [
    "'''Question 1\n",
    "\n",
    "Given an integer n, return true if it is a power of two. Otherwise, return false.\n",
    "An integer n is a power of two, if there exists an integer x such that n == 2x.\n",
    "Example 1:\n",
    "Input: n = 1 \n",
    "Output: true\n",
    "Example 2:\n",
    "Input: n = 16 \n",
    "Output: true\n",
    "Example 3:\n",
    "Input: n = 3 \n",
    "Output: false'''\n",
    "\n",
    "def poweroftwo(n):\n",
    "    if n <= 0:\n",
    "        return False\n",
    "    while n % 2 == 0:\n",
    "        n //= 2\n",
    "    return n == 1\n",
    "\n",
    "print(poweroftwo(1)) \n",
    "print(poweroftwo(16)) \n",
    "print(poweroftwo(3))   \n"
   ]
  },
  {
   "cell_type": "code",
   "execution_count": 2,
   "id": "af4f43d6",
   "metadata": {},
   "outputs": [
    {
     "name": "stdout",
     "output_type": "stream",
     "text": [
      "6\n",
      "15\n"
     ]
    }
   ],
   "source": [
    "'''Question 2\n",
    "\n",
    "Given a number n, find the sum of the first natural numbers.\n",
    "Example 1:\n",
    "Input: n = 3 \n",
    "Output: 6\n",
    "Example 2:\n",
    "Input  : 5 \n",
    "Output : 15'''\n",
    "\n",
    "def sumofnumbers(n):\n",
    "    sum = (n * (n + 1)) // 2\n",
    "    return sum\n",
    "print(sumofnumbers(3))  \n",
    "print(sumofnumbers(5))  \n"
   ]
  },
  {
   "cell_type": "code",
   "execution_count": 3,
   "id": "3d696f2b",
   "metadata": {},
   "outputs": [
    {
     "name": "stdout",
     "output_type": "stream",
     "text": [
      "120\n",
      "24\n"
     ]
    }
   ],
   "source": [
    "'''Question 3\n",
    "\n",
    "Given a positive integer, N. Find the factorial of N. \n",
    "Example 1:\n",
    "Input: N = 5 \n",
    "Output: 120\n",
    "Example 2:\n",
    "Input: N = 4\n",
    "Output: 24'''\n",
    "\n",
    "def factorial(N):\n",
    "    factorial = 1\n",
    "    for i in range(1, N + 1):\n",
    "        factorial *= i\n",
    "    return factorial\n",
    "\n",
    "print(factorial(5))  \n",
    "print(factorial(4))  \n"
   ]
  },
  {
   "cell_type": "code",
   "execution_count": 11,
   "id": "c1f2d749",
   "metadata": {},
   "outputs": [
    {
     "name": "stdout",
     "output_type": "stream",
     "text": [
      "25\n",
      "32\n"
     ]
    }
   ],
   "source": [
    "'''Question 4\n",
    "\n",
    "Given a number N and a power P, the task is to find the exponent of this number raised to the given power, i.e. N^P.\n",
    "Example 1 : \n",
    "Input: N = 5, P = 2\n",
    "Output: 25\n",
    "Example 2 :\n",
    "Input: N = 2, P = 5\n",
    "Output: 32'''\n",
    "\n",
    "def exponent(N, P):\n",
    "    result = N ** P\n",
    "    return result\n",
    "print(exponent(5, 2)) \n",
    "print(exponent(2, 5)) \n"
   ]
  },
  {
   "cell_type": "code",
   "execution_count": 12,
   "id": "b36af7cd",
   "metadata": {},
   "outputs": [
    {
     "name": "stdout",
     "output_type": "stream",
     "text": [
      "8\n",
      "45\n"
     ]
    }
   ],
   "source": [
    "'''Question 5\n",
    "\n",
    "Given an array of integers arr, the task is to find maximum element of that array using recursion.\n",
    "Example 1:\n",
    "Input: arr = {1, 4, 3, -5, -4, 8, 6};\n",
    "Output: 8\n",
    "Example 2:\n",
    "Input: arr = {1, 4, 45, 6, 10, -8};\n",
    "Output: 45'''\n",
    "\n",
    "def find_max(arr):\n",
    "    if len(arr) == 1:\n",
    "        return arr[0]\n",
    "    \n",
    "    mid = len(arr) // 2\n",
    "    maximumfirsthalf = find_max(arr[:mid])\n",
    "    maximumsecondhalf = find_max(arr[mid:])\n",
    "    \n",
    "    return max(maximumfirsthalf, maximumsecondhalf)\n",
    "arr1 = [1, 4, 3, -5, -4, 8, 6]\n",
    "print(find_max(arr1))  \n",
    "\n",
    "arr2 = [1, 4, 45, 6, 10, -8]\n",
    "print(find_max(arr2)) \n"
   ]
  },
  {
   "cell_type": "code",
   "execution_count": 13,
   "id": "747fd0b0",
   "metadata": {},
   "outputs": [
    {
     "name": "stdout",
     "output_type": "stream",
     "text": [
      "6\n",
      "23\n"
     ]
    }
   ],
   "source": [
    "'''Question 6\n",
    "\n",
    "Given first term (a), common difference (d) and a integer N of the Arithmetic Progression series, the task is to find Nth term of the series.\n",
    "Example 1:\n",
    "Input : a = 2 d = 1 N = 5\n",
    "Output : 6\n",
    "The 5th term of the series is : 6\n",
    "Example 2:\n",
    "Input : a = 5 d = 2 N = 10\n",
    "Output : 23\n",
    "The 10th term of the series is : 23'''\n",
    "\n",
    "def finding_nth_term(a, d, N):\n",
    "    nth_term = a + (N - 1) * d\n",
    "    return nth_term\n",
    "print(find_nth_term(2, 1, 5))  \n",
    "print(finding_nth_term(5, 2, 10))  \n"
   ]
  },
  {
   "cell_type": "code",
   "execution_count": 14,
   "id": "68f63284",
   "metadata": {},
   "outputs": [
    {
     "name": "stdout",
     "output_type": "stream",
     "text": [
      "['ABC', 'ACB', 'BAC', 'BCA', 'CAB', 'CBA']\n",
      "['XY', 'YX']\n"
     ]
    }
   ],
   "source": [
    "'''Question 7\n",
    "\n",
    "Given a string S, the task is to write a program to print all permutations of a given string.\n",
    "Example 1:\n",
    "Input:\n",
    "S = “ABC”\n",
    "Output:\n",
    "“ABC”, “ACB”, “BAC”, “BCA”, “CBA”, “CAB”\n",
    "Example 2:\n",
    "Input:\n",
    "S = “XY”\n",
    "Output:\n",
    "“XY”, “YX”'''\n",
    "\n",
    "\n",
    "def per_gen(S):\n",
    "    if len(S) == 1:\n",
    "        return [S]\n",
    "\n",
    "    permutations = []\n",
    "    for i in range(len(S)):\n",
    "        first_char = S[i]\n",
    "        remaining_chars = S[:i] + S[i+1:]\n",
    "        for permutation in per_gen(remaining_chars):\n",
    "            permutations.append(first_char + permutation)\n",
    "    \n",
    "    return permutations\n",
    "\n",
    "S1 = \"ABC\"\n",
    "print(per_gen(S1))\n",
    "\n",
    "\n",
    "S2 = \"XY\"\n",
    "print(per_gen(S2))\n",
    "\n"
   ]
  },
  {
   "cell_type": "code",
   "execution_count": 15,
   "id": "a2a84445",
   "metadata": {},
   "outputs": [
    {
     "name": "stdout",
     "output_type": "stream",
     "text": [
      "120\n",
      "18\n"
     ]
    }
   ],
   "source": [
    "'''Question 8\n",
    "Given an array, find a product of all array elements.\n",
    "Example 1:\n",
    "Input  : arr[] = {1, 2, 3, 4, 5}\n",
    "Output : 120\n",
    "Example 2:\n",
    "Input  : arr[] = {1, 6, 3}\n",
    "Output : 18'''\n",
    "\n",
    "\n",
    "def array_product(arr):\n",
    "    product = 1\n",
    "    for num in arr:\n",
    "        product *= num\n",
    "    return product\n",
    "arr1 = [1, 2, 3, 4, 5]\n",
    "print(array_product(arr1))  \n",
    "\n",
    "arr2 = [1, 6, 3]\n",
    "print(array_product(arr2))\n"
   ]
  },
  {
   "cell_type": "code",
   "execution_count": null,
   "id": "f389caac",
   "metadata": {},
   "outputs": [],
   "source": []
  }
 ],
 "metadata": {
  "kernelspec": {
   "display_name": "Python 3 (ipykernel)",
   "language": "python",
   "name": "python3"
  },
  "language_info": {
   "codemirror_mode": {
    "name": "ipython",
    "version": 3
   },
   "file_extension": ".py",
   "mimetype": "text/x-python",
   "name": "python",
   "nbconvert_exporter": "python",
   "pygments_lexer": "ipython3",
   "version": "3.9.12"
  }
 },
 "nbformat": 4,
 "nbformat_minor": 5
}
