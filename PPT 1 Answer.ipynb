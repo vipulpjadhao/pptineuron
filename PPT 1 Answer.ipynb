{
 "cells": [
  {
   "cell_type": "code",
   "execution_count": 6,
   "id": "90c70ea6",
   "metadata": {},
   "outputs": [
    {
     "name": "stdout",
     "output_type": "stream",
     "text": [
      "Enter the size of an array: 4\n",
      "Enter 4 values seperated by spaces: \n",
      "2 7 11 15\n",
      "The input array is:  [2, 7, 11, 15]\n",
      "Enter the target number: 9\n",
      "[0, 1]\n"
     ]
    }
   ],
   "source": [
    "'''\n",
    "Q1. Given an array of integers nums and an integer target, return indices of the two numbers such that they add up to target.\n",
    "You may assume that each input would have exactly one solution, and you may not use the same element twice.\n",
    "You can return the answer in any order.\n",
    "\n",
    "Example:\n",
    "Input: nums = [2,7,11,15], target = 9\n",
    "Output0 [0,1]\n",
    "\n",
    "Explanation: Because nums[0] + nums[1] == 9, we return [0, 1]\n",
    "'''\n",
    "\n",
    "def targetSum(nums, target):\n",
    "    num_dict = {}\n",
    "    for i, num in enumerate(nums):\n",
    "        diff = target - num\n",
    "        if diff in num_dict:\n",
    "            return [num_dict[diff], i]\n",
    "        num_dict[num] = i\n",
    "    return []\n",
    "\n",
    "n = int(input(\"Enter the size of an array: \"))\n",
    "print('Enter', n, 'values seperated by spaces: ')\n",
    "array = list(map(int, input().split()))\n",
    "print('The input array is: ', array)\n",
    "\n",
    "target = int(input(\"Enter the target number: \"))\n",
    "ans = targetSum(array, target)\n",
    "\n",
    "print(ans)\n"
   ]
  },
  {
   "cell_type": "code",
   "execution_count": 10,
   "id": "5818b179",
   "metadata": {},
   "outputs": [
    {
     "name": "stdout",
     "output_type": "stream",
     "text": [
      "Enter the size of an array: 4\n",
      "Enter 4 values seperated by spaces: \n",
      "3 2 2 3\n",
      "The input array is:  [3, 2, 2, 3]\n",
      "Entere the value: 3\n",
      "[2, 2, '_', '_']\n"
     ]
    }
   ],
   "source": [
    "'''\n",
    "Q2. Given an integer array nums and an integer val, remove all occurrences of val in nums in-place. \n",
    "The order of the elements may be changed. Then return the number of elements in nums which are not \n",
    "equal to val.\n",
    "Consider the number of elements in nums which are not equal to val be k, to get accepted, you need to \n",
    "do the following things:\n",
    "- Change the array nums such that the first k elements of nums contain the elements which are not equal\n",
    "to val. The remaining elements of nums are not important as well as the size of nums.\n",
    "- Return k.\n",
    "\n",
    "Example :\n",
    "Input: nums = [3,2,2,3], val = 3\n",
    "Output: 2, nums = [2,2,_,_]\n",
    "\n",
    "Explanation: Your function should return k = 2, with the first two elements of nums being 2. It does \n",
    "not matter what you leave beyond the returned k (hence they are underscores)\n",
    "'''\n",
    "\n",
    "def removeMatching(nums, val):\n",
    "    k=0\n",
    "    for i in range(len(nums)):\n",
    "        if nums[i] != val:\n",
    "            nums[k] = nums[i]\n",
    "            k=k+1\n",
    "    return k\n",
    "\n",
    "n = int(input(\"Enter the size of an array: \"))\n",
    "print('Enter', n, 'values seperated by spaces: ')\n",
    "array = list(map(int, input().split()))\n",
    "print('The input array is: ', array)\n",
    "\n",
    "value = int(input(\"Entere the value: \"))\n",
    "\n",
    "ans = removeMatching(array, value)\n",
    "\n",
    "print(array[:ans] + ['_'] * (len(array) - ans))"
   ]
  },
  {
   "cell_type": "code",
   "execution_count": 14,
   "id": "81f3739c",
   "metadata": {},
   "outputs": [
    {
     "name": "stdout",
     "output_type": "stream",
     "text": [
      "2\n"
     ]
    }
   ],
   "source": [
    "'''\n",
    "Q3. Given a sorted array of distinct integers and a target value, return the index if the target is \n",
    "found. If not, return the index where it would be if it were inserted in order. You must write an \n",
    "algorithm with O(log n) runtime complexity.\n",
    "\n",
    "Example 1:\n",
    "Input: nums = [1,3,5,6], target = 5\n",
    "Output: 2\n",
    "'''\n",
    "\n",
    "def numberSearch(nums, target):\n",
    "    left, right = 0, len(nums) - 1\n",
    "    while left <= right:\n",
    "        mid = left + (right-left) // 2\n",
    "        if nums[mid] == target:\n",
    "            return mid\n",
    "        if nums[mid] < target:\n",
    "            left = mid+1\n",
    "        else:\n",
    "            right = mid-1\n",
    "    return left\n",
    "\n",
    "nums = [1, 3, 5, 6]\n",
    "target = 5\n",
    "index = numberSearch(nums, target)\n",
    "print(index)"
   ]
  },
  {
   "cell_type": "code",
   "execution_count": 17,
   "id": "78a013aa",
   "metadata": {},
   "outputs": [
    {
     "name": "stdout",
     "output_type": "stream",
     "text": [
      "Enter the size of an array: 3\n",
      "Enter 3 values seperated by spaces: \n",
      "1 2 3\n",
      "The input array is:  [1, 2, 3]\n",
      "The required output is:  [1, 2, 4]\n"
     ]
    }
   ],
   "source": [
    "''' \n",
    "Q4. You are given a large integer represented as an integer array digits, where each digits[i] is the \n",
    "ith digit of the integer. The digits are ordered from most significant to least significant in \n",
    "left-to-right order. The large integer does not contain any leading 0's.\n",
    "Increment the large integer by one and return the resulting array of digits.\n",
    "\n",
    "Example 1:\n",
    "Input: digits = [1,2,3]\n",
    "Output: [1,2,4]\n",
    "\n",
    "Explanation: The array represents the integer 123.\n",
    "Incrementing by one gives 123 + 1 = 124.\n",
    "Thus, the result should be [1,2,4].\n",
    "'''\n",
    "\n",
    "def addOne(array):\n",
    "    n = len(array)\n",
    "    # Starting from the least significant digit\n",
    "    for i in range(n-1,-1,-1):\n",
    "        if array[i] < 9:\n",
    "            array[i] += 1\n",
    "            return array\n",
    "        else:\n",
    "            array[i] = 0\n",
    "    # If all digits are 9, add an additional digit at the beginning\n",
    "    return [1] + array\n",
    "\n",
    "# Taking the array as an input \n",
    "n = int(input(\"Enter the size of an array: \"))\n",
    "print('Enter', n, 'values seperated by spaces: ')\n",
    "array = list(map(int, input().split()))\n",
    "print('The input array is: ', array)\n",
    "\n",
    "ans = addOne(array)\n",
    "print('The required output is: ', ans)"
   ]
  },
  {
   "cell_type": "code",
   "execution_count": 20,
   "id": "570be76c",
   "metadata": {},
   "outputs": [
    {
     "name": "stdout",
     "output_type": "stream",
     "text": [
      "[1, 2, 2, 3, 5, 6]\n"
     ]
    }
   ],
   "source": [
    "'''\n",
    "Q5. You are given two integer arrays nums1 and nums2, sorted in non-decreasing order, and two integers\n",
    "m and n, representing the number of elements in nums1 and nums2 respectively.\n",
    "Merge nums1 and nums2 into a single array sorted in non-decreasing order.\n",
    "The final sorted array should not be returned by the function, but instead be stored inside the array nums1. To accommodate this, nums1 has a length of m + n, where the first m elements denote the elements that should be merged, and the last n elements are set to 0 and should be ignored. nums2 has a length of n.\n",
    "\n",
    "Example 1:\n",
    "Input: nums1 = [1,2,3,0,0,0], m = 3, nums2 = [2,5,6], n = 3\n",
    "Output: [1,2,2,3,5,6]\n",
    "\n",
    "Explanation: The arrays we are merging are [1,2,3] and [2,5,6].\n",
    "The result of the merge is [1,2,2,3,5,6] with the underlined elements coming from nums1\n",
    "'''\n",
    "\n",
    "def join(nums1, m, nums2, n):\n",
    "    # Initializing two pointers for nums1 and nums2\n",
    "    p1,p2 = m-1, n-1\n",
    "    # Initialize the pointer for the merged array\n",
    "    p = m+n-1\n",
    "    # Merge the arrays starting from the last valid elements\n",
    "    while p1 >= 0 and p2 >= 0:\n",
    "        if nums1[p1] > nums2[p2]:\n",
    "            nums1[p] = nums1[p1]\n",
    "            p1 = p1-1\n",
    "        else:\n",
    "            nums1[p] = nums2[p2]\n",
    "            p2 = p2-1\n",
    "        p = p-1\n",
    "    # Copy the remaining elements from nums2 if any\n",
    "    nums1[:p2+1] = nums2[:p2+1]\n",
    "    \n",
    "nums1 = [1,2,3,0,0,0]\n",
    "m = 3\n",
    "nums2 = [2,5,6]\n",
    "n = 3\n",
    "ans = join(nums1, m, nums2, n)\n",
    "print(nums1)"
   ]
  },
  {
   "cell_type": "code",
   "execution_count": 22,
   "id": "5f3e563c",
   "metadata": {},
   "outputs": [
    {
     "name": "stdout",
     "output_type": "stream",
     "text": [
      "Enter the size of an array: 4\n",
      "Enter 4 values seperated by spaces: \n",
      "1 2 3 4\n",
      "The input array is:  [1, 2, 3, 4]\n"
     ]
    },
    {
     "data": {
      "text/plain": [
       "False"
      ]
     },
     "execution_count": 22,
     "metadata": {},
     "output_type": "execute_result"
    }
   ],
   "source": [
    "'''\n",
    "Q6. Given an integer array nums, return true if any value appears at least twice in the array, and \n",
    "return false if every element is distinct.\n",
    "\n",
    "Example 1:\n",
    "Input: nums = [1,2,3,1]\n",
    "Output: true\n",
    "'''\n",
    "\n",
    "def checkTheDuplicates(nums):\n",
    "    seen = set()\n",
    "    for num in nums:\n",
    "        if num in seen:\n",
    "            return True\n",
    "        seen.add(num)\n",
    "    return False\n",
    "\n",
    "# Taking the array as an input\n",
    "n = int(input(\"Enter the size of an array: \"))\n",
    "print('Enter', n, 'values seperated by spaces: ')\n",
    "array = list(map(int, input().split()))\n",
    "print('The input array is: ', array)\n",
    "\n",
    "checkTheDuplicates(array)"
   ]
  },
  {
   "cell_type": "code",
   "execution_count": 24,
   "id": "b1ccfc4c",
   "metadata": {},
   "outputs": [
    {
     "name": "stdout",
     "output_type": "stream",
     "text": [
      "[1, 3, 12, 0, 0]\n"
     ]
    }
   ],
   "source": [
    "'''\n",
    "Q7. Given an integer array nums, move all 0's to the end of it while maintaining the relative order of \n",
    "the nonzero elements.\n",
    "Note that you must do this in-place without making a copy of the array.\n",
    "\n",
    "Example 1:\n",
    "Input: nums = [0,1,0,3,12]\n",
    "Output: [1,3,12,0,0]\n",
    "'''\n",
    "\n",
    "def moveZeroesatOtherEnd(nums):\n",
    "    slow = 0\n",
    "    for fast in range(len(nums)):\n",
    "        if nums[fast] != 0:\n",
    "            nums[slow] = nums[fast]\n",
    "            slow += 1\n",
    "    for i in range(slow, len(nums)):\n",
    "        nums[i] = 0\n",
    "        \n",
    "nums = [0, 1, 0, 3, 12]\n",
    "moveZeroesatOtherEnd(nums)\n",
    "print(nums)"
   ]
  },
  {
   "cell_type": "code",
   "execution_count": 25,
   "id": "be7cf448",
   "metadata": {},
   "outputs": [
    {
     "name": "stdout",
     "output_type": "stream",
     "text": [
      "[2, 3]\n"
     ]
    }
   ],
   "source": [
    "'''\n",
    "You have a set of integers s, which originally contains all the numbers from 1 to n. Unfortunately, \n",
    "due to some error, one of the numbers in s got duplicated to another number in the set, which results \n",
    "in repetition of one number and loss of another number.\n",
    "You are given an integer array nums representing the data status of this set after the error.\n",
    "Find the number that occurs twice and the number that is missing and return them in the form of an \n",
    "array.\n",
    "\n",
    "Example 1:\n",
    "Input: nums = [1,2,2,4]\n",
    "Output: [2,3]\n",
    "'''\n",
    "\n",
    "def findErrorNums(nums):\n",
    "    seen = set()\n",
    "    duplicate = missing = 0\n",
    "    for num in nums:\n",
    "        if num in seen:\n",
    "            duplicate = num\n",
    "        seen.add(num)\n",
    "    for i in range(1, len(nums) + 1):\n",
    "        if i not in seen:\n",
    "            missing = i\n",
    "    return [duplicate, missing]\n",
    "\n",
    "nums = [1, 2, 2, 4]\n",
    "result = findErrorNums(nums)\n",
    "print(result)"
   ]
  },
  {
   "cell_type": "code",
   "execution_count": null,
   "id": "0f349a7c",
   "metadata": {},
   "outputs": [],
   "source": []
  }
 ],
 "metadata": {
  "kernelspec": {
   "display_name": "Python 3 (ipykernel)",
   "language": "python",
   "name": "python3"
  },
  "language_info": {
   "codemirror_mode": {
    "name": "ipython",
    "version": 3
   },
   "file_extension": ".py",
   "mimetype": "text/x-python",
   "name": "python",
   "nbconvert_exporter": "python",
   "pygments_lexer": "ipython3",
   "version": "3.10.9"
  }
 },
 "nbformat": 4,
 "nbformat_minor": 5
}
