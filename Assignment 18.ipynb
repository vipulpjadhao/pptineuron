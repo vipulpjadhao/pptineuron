{
 "cells": [
  {
   "cell_type": "code",
   "execution_count": 1,
   "id": "6d18c205",
   "metadata": {},
   "outputs": [
    {
     "name": "stdout",
     "output_type": "stream",
     "text": [
      "[[1, 6], [8, 10], [15, 18]]\n",
      "[[1, 5]]\n"
     ]
    }
   ],
   "source": [
    "# Question 1.\n",
    "def merge_intervals(intervals):\n",
    "    if not intervals:\n",
    "        return []\n",
    "\n",
    "    intervals.sort(key=lambda x: x[0])\n",
    "\n",
    "    merged = []\n",
    "    merged_interval = intervals[0]\n",
    "\n",
    "    for interval in intervals[1:]:\n",
    "        if interval[0] <= merged_interval[1]:\n",
    "            merged_interval[1] = max(merged_interval[1], interval[1])\n",
    "        else:\n",
    "            merged.append(merged_interval)\n",
    "            merged_interval = interval\n",
    "\n",
    "\n",
    "    merged.append(merged_interval)\n",
    "\n",
    "    return merged\n",
    "\n",
    "\n",
    "intervals1 = [[1,3],[2,6],[8,10],[15,18]]\n",
    "result1 = merge_intervals(intervals1)\n",
    "print(result1)\n",
    "\n",
    "intervals2 = [[1,4],[4,5]]\n",
    "result2 = merge_intervals(intervals2)\n",
    "print(result2) "
   ]
  },
  {
   "cell_type": "code",
   "execution_count": 9,
   "id": "f769637a",
   "metadata": {},
   "outputs": [
    {
     "name": "stdout",
     "output_type": "stream",
     "text": [
      "[0, 0, 1, 1, 2, 2]\n",
      "[0, 1, 2]\n"
     ]
    }
   ],
   "source": [
    "# Question 2.\n",
    "def sort_colors(nums):\n",
    "    red, white, blue = 0, 0, len(nums) - 1\n",
    "    while white <= blue:\n",
    "        if nums[white] == 0:  \n",
    "            nums[red], nums[white] = nums[white], nums[red]\n",
    "            red += 1\n",
    "            white += 1\n",
    "        elif nums[white] == 1:  \n",
    "            white += 1\n",
    "        else:  \n",
    "            nums[white], nums[blue] = nums[blue], nums[white]\n",
    "            blue -= 1\n",
    "\n",
    "    return nums\n",
    "\n",
    "\n",
    "nums1 = [2, 0, 2, 1, 1, 0]\n",
    "result1 = sort_colors(nums1)\n",
    "print(result1) \n",
    "\n",
    "nums2 = [2, 0, 1]\n",
    "result2 = sort_colors(nums2)\n",
    "print(result2) "
   ]
  },
  {
   "cell_type": "code",
   "execution_count": 10,
   "id": "1899a6f9",
   "metadata": {},
   "outputs": [
    {
     "name": "stdout",
     "output_type": "stream",
     "text": [
      "4\n",
      "1\n"
     ]
    }
   ],
   "source": [
    "# Question 3.\n",
    "def first_bad_version(n):\n",
    "    left = 1\n",
    "    right = n\n",
    "\n",
    "    while left < right:\n",
    "        mid = left + (right - left) // 2\n",
    "        if isBadVersion(mid):\n",
    "            right = mid\n",
    "        else:\n",
    "            left = mid + 1\n",
    "\n",
    "    return left\n",
    "\n",
    "def isBadVersion(version):\n",
    "    return version >= 4  \n",
    "\n",
    "n1 = 5\n",
    "bad1 = 4\n",
    "result1 = first_bad_version(n1)\n",
    "print(result1) \n",
    "\n",
    "n2 = 1\n",
    "bad2 = 1\n",
    "result2 = first_bad_version(n2)\n",
    "print(result2)  \n"
   ]
  },
  {
   "cell_type": "code",
   "execution_count": 4,
   "id": "5eb6fc37",
   "metadata": {},
   "outputs": [
    {
     "name": "stdout",
     "output_type": "stream",
     "text": [
      "3\n",
      "0\n"
     ]
    }
   ],
   "source": [
    "# Question 4.\n",
    "def maximum_gap(nums):\n",
    "    if len(nums) < 2:\n",
    "        return 0\n",
    "    max_num = max(nums)\n",
    "    exp = 1\n",
    "    n = len(nums)\n",
    "    aux = [0] * n\n",
    "\n",
    "    while max_num // exp > 0:\n",
    "        count = [0] * 10\n",
    "\n",
    "        for num in nums:\n",
    "            digit = (num // exp) % 10\n",
    "            count[digit] += 1\n",
    "\n",
    "        for i in range(1, 10):\n",
    "            count[i] += count[i - 1]\n",
    "\n",
    "        for i in range(n - 1, -1, -1):\n",
    "            num = nums[i]\n",
    "            digit = (num // exp) % 10\n",
    "            count[digit] -= 1\n",
    "            j = count[digit]\n",
    "            aux[j] = num\n",
    "\n",
    "        nums[:] = aux[:]\n",
    "\n",
    "        exp *= 10\n",
    "\n",
    "    max_diff = 0\n",
    "    for i in range(1, len(nums)):\n",
    "        max_diff = max(max_diff, nums[i] - nums[i - 1])\n",
    "\n",
    "    return max_diff\n",
    "\n",
    "\n",
    "nums1 = [3, 6, 9, 1]\n",
    "result1 = maximum_gap(nums1)\n",
    "print(result1)  \n",
    "\n",
    "nums2 = [10]\n",
    "result2 = maximum_gap(nums2)\n",
    "print(result2) "
   ]
  },
  {
   "cell_type": "code",
   "execution_count": 12,
   "id": "f780a027",
   "metadata": {},
   "outputs": [
    {
     "name": "stdout",
     "output_type": "stream",
     "text": [
      "True\n",
      "False\n"
     ]
    }
   ],
   "source": [
    "# Question 5.\n",
    "def contains_duplicate(nums):\n",
    "    num_set = set()\n",
    "    for num in nums:\n",
    "        if num in num_set:\n",
    "            return True\n",
    "        num_set.add(num)\n",
    "    return False\n",
    "\n",
    "nums1 = [1, 2, 3, 1]\n",
    "result1 = contains_duplicate(nums1)\n",
    "print(result1) \n",
    "\n",
    "nums2 = [1, 2, 3, 4]\n",
    "result2 = contains_duplicate(nums2)\n",
    "print(result2)"
   ]
  },
  {
   "cell_type": "code",
   "execution_count": 6,
   "id": "0a341ec0",
   "metadata": {},
   "outputs": [
    {
     "name": "stdout",
     "output_type": "stream",
     "text": [
      "2\n"
     ]
    }
   ],
   "source": [
    "# Question 6.\n",
    "def find_min_arrows(points):\n",
    "    if not points:\n",
    "        return 0\n",
    "\n",
    "    points.sort(key=lambda x: x[1])  \n",
    "    arrows = 1  \n",
    "    end = points[0][1]\n",
    "\n",
    "    for i in range(1, len(points)):\n",
    "        if points[i][0] > end:\n",
    "            arrows += 1\n",
    "            end = points[i][1]\n",
    "        else:\n",
    "            end = min(end, points[i][1])\n",
    "\n",
    "    return arrows\n",
    "\n",
    "points1 = [[10, 16], [2, 8], [1, 6], [7, 12]]\n",
    "result1 = find_min_arrows(points1)\n",
    "print(result1)"
   ]
  },
  {
   "cell_type": "code",
   "execution_count": 7,
   "id": "abee75cf",
   "metadata": {},
   "outputs": [
    {
     "name": "stdout",
     "output_type": "stream",
     "text": [
      "4\n",
      "4\n"
     ]
    }
   ],
   "source": [
    "# Question 7.\n",
    "def length_of_lis(nums):\n",
    "    if not nums:\n",
    "        return 0\n",
    "\n",
    "    n = len(nums)\n",
    "    dp = [1] * n\n",
    "\n",
    "    for i in range(1, n):\n",
    "        for j in range(i):\n",
    "            if nums[i] > nums[j]:\n",
    "                dp[i] = max(dp[i], dp[j] + 1)\n",
    "    return max(dp)\n",
    "\n",
    "nums1 = [10, 9, 2, 5, 3, 7, 101, 18]\n",
    "result1 = length_of_lis(nums1)\n",
    "print(result1)  \n",
    "\n",
    "nums2 = [0, 1, 0, 3, 2, 3]\n",
    "result2 = length_of_lis(nums2)\n",
    "print(result2) "
   ]
  },
  {
   "cell_type": "code",
   "execution_count": 8,
   "id": "d4e8b0a9",
   "metadata": {},
   "outputs": [
    {
     "name": "stdout",
     "output_type": "stream",
     "text": [
      "False\n",
      "True\n"
     ]
    }
   ],
   "source": [
    "# Question 8.\n",
    "def find132pattern(nums):\n",
    "    stack = []\n",
    "    potential_2 = float('-inf')\n",
    "    for i in range(len(nums)-1, -1, -1):\n",
    "        if nums[i] < potential_2:\n",
    "            return True\n",
    "        while stack and stack[-1] < nums[i]:\n",
    "            potential_2 = stack.pop()\n",
    "        stack.append(nums[i])\n",
    "    return False\n",
    "\n",
    "nums1 = [1, 2, 3, 4]\n",
    "result1 = find132pattern(nums1)\n",
    "print(result1)\n",
    "\n",
    "nums2 = [3, 1, 4, 2]\n",
    "result2 = find132pattern(nums2)\n",
    "print(result2)  \n"
   ]
  },
  {
   "cell_type": "code",
   "execution_count": null,
   "id": "c1caa91c",
   "metadata": {},
   "outputs": [],
   "source": []
  }
 ],
 "metadata": {
  "kernelspec": {
   "display_name": "Python 3 (ipykernel)",
   "language": "python",
   "name": "python3"
  },
  "language_info": {
   "codemirror_mode": {
    "name": "ipython",
    "version": 3
   },
   "file_extension": ".py",
   "mimetype": "text/x-python",
   "name": "python",
   "nbconvert_exporter": "python",
   "pygments_lexer": "ipython3",
   "version": "3.10.9"
  }
 },
 "nbformat": 4,
 "nbformat_minor": 5
}
