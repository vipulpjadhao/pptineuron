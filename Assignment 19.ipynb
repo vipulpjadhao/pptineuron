{
 "cells": [
  {
   "cell_type": "code",
   "execution_count": 3,
   "id": "cbe874c8",
   "metadata": {},
   "outputs": [
    {
     "ename": "TypeError",
     "evalue": "'<' not supported between instances of 'ListNode' and 'ListNode'",
     "output_type": "error",
     "traceback": [
      "\u001b[1;31m---------------------------------------------------------------------------\u001b[0m",
      "\u001b[1;31mTypeError\u001b[0m                                 Traceback (most recent call last)",
      "Cell \u001b[1;32mIn[3], line 38\u001b[0m\n\u001b[0;32m     34\u001b[0m list3 \u001b[38;5;241m=\u001b[39m ListNode(\u001b[38;5;241m2\u001b[39m, ListNode(\u001b[38;5;241m6\u001b[39m))\n\u001b[0;32m     36\u001b[0m lists \u001b[38;5;241m=\u001b[39m [list1, list2, list3]\n\u001b[1;32m---> 38\u001b[0m merged_list \u001b[38;5;241m=\u001b[39m \u001b[43mmergeKLists\u001b[49m\u001b[43m(\u001b[49m\u001b[43mlists\u001b[49m\u001b[43m)\u001b[49m\n\u001b[0;32m     40\u001b[0m \u001b[38;5;28;01mdef\u001b[39;00m \u001b[38;5;21mconvertToList\u001b[39m(head):\n\u001b[0;32m     41\u001b[0m     result \u001b[38;5;241m=\u001b[39m []\n",
      "Cell \u001b[1;32mIn[3], line 16\u001b[0m, in \u001b[0;36mmergeKLists\u001b[1;34m(lists)\u001b[0m\n\u001b[0;32m     14\u001b[0m \u001b[38;5;28;01mfor\u001b[39;00m head \u001b[38;5;129;01min\u001b[39;00m lists:\n\u001b[0;32m     15\u001b[0m     \u001b[38;5;28;01mif\u001b[39;00m head:\n\u001b[1;32m---> 16\u001b[0m         \u001b[43mheapq\u001b[49m\u001b[38;5;241;43m.\u001b[39;49m\u001b[43mheappush\u001b[49m\u001b[43m(\u001b[49m\u001b[43mmin_heap\u001b[49m\u001b[43m,\u001b[49m\u001b[43m \u001b[49m\u001b[43m(\u001b[49m\u001b[43mhead\u001b[49m\u001b[38;5;241;43m.\u001b[39;49m\u001b[43mval\u001b[49m\u001b[43m,\u001b[49m\u001b[43m \u001b[49m\u001b[43mhead\u001b[49m\u001b[43m)\u001b[49m\u001b[43m)\u001b[49m\n\u001b[0;32m     18\u001b[0m \u001b[38;5;66;03m# Create a dummy node as the head of the result linked list\u001b[39;00m\n\u001b[0;32m     19\u001b[0m dummy \u001b[38;5;241m=\u001b[39m ListNode()\n",
      "\u001b[1;31mTypeError\u001b[0m: '<' not supported between instances of 'ListNode' and 'ListNode'"
     ]
    }
   ],
   "source": [
    "# Question 1\n",
    "import heapq\n",
    "\n",
    "class ListNode:\n",
    "    def __init__(self, val=0, next=None):\n",
    "        self.val = val\n",
    "        self.next = next\n",
    "\n",
    "def mergeKLists(lists):\n",
    "    min_heap = []\n",
    "    \n",
    "    for head in lists:\n",
    "        if head:\n",
    "            heapq.heappush(min_heap, (head.val, head))\n",
    "\n",
    "  \n",
    "    dummy = ListNode()\n",
    "    curr = dummy\n",
    "    while min_heap:\n",
    "        _, node = heapq.heappop(min_heap)\n",
    "        curr.next = node\n",
    "        curr = curr.next\n",
    "        if node.next:\n",
    "            heapq.heappush(min_heap, (node.next.val, node.next))\n",
    "\n",
    "    return dummy.next\n",
    "\n",
    "list1 = ListNode(1, ListNode(4, ListNode(5)))\n",
    "list2 = ListNode(1, ListNode(3, ListNode(4)))\n",
    "list3 = ListNode(2, ListNode(6))\n",
    "\n",
    "lists = [list1, list2, list3]\n",
    "\n",
    "merged_list = mergeKLists(lists)\n",
    "\n",
    "def convertToList(head):\n",
    "    result = []\n",
    "    curr = head\n",
    "    while curr:\n",
    "        result.append(curr.val)\n",
    "        curr = curr.next\n",
    "    return result\n",
    "\n",
    "result = convertToList(merged_list)\n",
    "\n",
    "print(result)"
   ]
  },
  {
   "cell_type": "code",
   "execution_count": 4,
   "id": "998c692d",
   "metadata": {},
   "outputs": [
    {
     "name": "stdout",
     "output_type": "stream",
     "text": [
      "[2, 1, 1, 0]\n"
     ]
    }
   ],
   "source": [
    "# Question 2.\n",
    "def countSmaller(nums):\n",
    "    def mergeSort(nums, start, end, counts):\n",
    "        if start >= end:\n",
    "            return [nums[start]]\n",
    "\n",
    "        mid = (start + end) // 2\n",
    "        left = mergeSort(nums, start, mid, counts)\n",
    "        right = mergeSort(nums, mid + 1, end, counts)\n",
    "\n",
    "        merged = []\n",
    "        p1, p2 = 0, 0\n",
    "        count = 0\n",
    "\n",
    "        while p1 < len(left) and p2 < len(right):\n",
    "            if left[p1] <= right[p2]:\n",
    "                merged.append(left[p1])\n",
    "                counts[left[p1][1]] += count\n",
    "                p1 += 1\n",
    "            else:\n",
    "                merged.append(right[p2])\n",
    "                count += 1\n",
    "                p2 += 1\n",
    "\n",
    "        while p1 < len(left):\n",
    "            merged.append(left[p1])\n",
    "            counts[left[p1][1]] += count\n",
    "            p1 += 1\n",
    "\n",
    "        while p2 < len(right):\n",
    "            merged.append(right[p2])\n",
    "            p2 += 1\n",
    "\n",
    "        return merged\n",
    "\n",
    "    n = len(nums)\n",
    "    counts = [0] * n\n",
    "    nums = [(nums[i], i) for i in range(n)] \n",
    "    mergeSort(nums, 0, n - 1, counts)\n",
    "    return counts\n",
    "\n",
    "nums = [5, 2, 6, 1]\n",
    "result = countSmaller(nums)\n",
    "print(result) "
   ]
  },
  {
   "cell_type": "code",
   "execution_count": 5,
   "id": "1bf83e9c",
   "metadata": {},
   "outputs": [
    {
     "name": "stdout",
     "output_type": "stream",
     "text": [
      "[1, 2, 3, 5]\n"
     ]
    }
   ],
   "source": [
    "# Question 3.\n",
    "def sortArray(nums):\n",
    "    def mergeSort(nums, start, end):\n",
    "        if start == end:\n",
    "            return [nums[start]]\n",
    "\n",
    "        mid = (start + end) // 2\n",
    "        left = mergeSort(nums, start, mid)\n",
    "        right = mergeSort(nums, mid + 1, end)\n",
    "\n",
    "        merged = []\n",
    "        p1, p2 = 0, 0\n",
    "\n",
    "        while p1 < len(left) and p2 < len(right):\n",
    "            if left[p1] <= right[p2]:\n",
    "                merged.append(left[p1])\n",
    "                p1 += 1\n",
    "            else:\n",
    "                merged.append(right[p2])\n",
    "                p2 += 1\n",
    "\n",
    "        while p1 < len(left):\n",
    "            merged.append(left[p1])\n",
    "            p1 += 1\n",
    "\n",
    "        while p2 < len(right):\n",
    "            merged.append(right[p2])\n",
    "            p2 += 1\n",
    "\n",
    "        return merged\n",
    "\n",
    "    return mergeSort(nums, 0, len(nums) - 1)\n",
    "\n",
    "nums = [5, 2, 3, 1]\n",
    "result = sortArray(nums)\n",
    "print(result)  \n"
   ]
  },
  {
   "cell_type": "code",
   "execution_count": 6,
   "id": "b972e579",
   "metadata": {},
   "outputs": [
    {
     "name": "stdout",
     "output_type": "stream",
     "text": [
      "[1, 9, 8, 4, 2, 7, 6, 0, 0, 0, 0]\n"
     ]
    }
   ],
   "source": [
    "# Question 4.\n",
    "def moveZeroes(nums):\n",
    "    nextNonZero = 0\n",
    "\n",
    "    for i in range(len(nums)):\n",
    "        if nums[i] != 0:\n",
    "            nums[nextNonZero], nums[i] = nums[i], nums[nextNonZero]\n",
    "            nextNonZero += 1\n",
    "\n",
    "    for i in range(nextNonZero, len(nums)):\n",
    "        nums[i] = 0\n",
    "\n",
    "    return nums\n",
    "\n",
    "nums = [1, 9, 8, 4, 0, 0, 2, 7, 0, 6, 0]\n",
    "result = moveZeroes(nums)\n",
    "print(result) "
   ]
  },
  {
   "cell_type": "code",
   "execution_count": 7,
   "id": "dd26e9cc",
   "metadata": {},
   "outputs": [
    {
     "name": "stdout",
     "output_type": "stream",
     "text": [
      "[-4, -1, 3, 1, 2, 4]\n"
     ]
    }
   ],
   "source": [
    "# Question 5.\n",
    "def rearrangeArray(nums):\n",
    "    pos = 0\n",
    "    neg = 0\n",
    "\n",
    "    while pos < len(nums) and neg < len(nums):\n",
    "        while pos < len(nums) and nums[pos] > 0:\n",
    "            pos += 1\n",
    "        while neg < len(nums) and nums[neg] < 0:\n",
    "            neg += 1\n",
    "\n",
    "        if pos < len(nums) and neg < len(nums):\n",
    "            nums[pos], nums[neg] = nums[neg], nums[pos]\n",
    "            pos += 1\n",
    "            neg += 1\n",
    "\n",
    "    return nums\n",
    "\n",
    "nums = [1, 2, 3, -4, -1, 4]\n",
    "result = rearrangeArray(nums)\n",
    "print(result)  "
   ]
  },
  {
   "cell_type": "code",
   "execution_count": 8,
   "id": "3206ab28",
   "metadata": {},
   "outputs": [
    {
     "name": "stdout",
     "output_type": "stream",
     "text": [
      "[1, 2, 3, 4, 4, 5, 6, 8]\n"
     ]
    }
   ],
   "source": [
    "# Question 6.\n",
    "def merge_sorted_arrays(arr1, arr2):\n",
    "    n1 = len(arr1)\n",
    "    n2 = len(arr2)\n",
    "    i = j = 0\n",
    "    arr3 = []\n",
    "\n",
    "    while i < n1 and j < n2:\n",
    "        if arr1[i] <= arr2[j]:\n",
    "            arr3.append(arr1[i])\n",
    "            i += 1\n",
    "        else:\n",
    "            arr3.append(arr2[j])\n",
    "            j += 1\n",
    "\n",
    "    while i < n1:\n",
    "        arr3.append(arr1[i])\n",
    "        i += 1\n",
    "\n",
    "    while j < n2:\n",
    "        arr3.append(arr2[j])\n",
    "        j += 1\n",
    "\n",
    "    return arr3\n",
    "\n",
    "# Example usage\n",
    "arr1 = [1, 3, 4, 5]\n",
    "arr2 = [2, 4, 6, 8]\n",
    "merged_array = merge_sorted_arrays(arr1, arr2)\n",
    "print(merged_array)"
   ]
  },
  {
   "cell_type": "code",
   "execution_count": 9,
   "id": "bf78d1b3",
   "metadata": {},
   "outputs": [
    {
     "name": "stdout",
     "output_type": "stream",
     "text": [
      "[2]\n"
     ]
    }
   ],
   "source": [
    "# Question 7.\n",
    "def intersection(nums1, nums2):\n",
    "    set1 = set(nums1)\n",
    "    intersection = set()\n",
    "\n",
    "    for num in nums2:\n",
    "        if num in set1:\n",
    "            intersection.add(num)\n",
    "\n",
    "    return list(intersection)\n",
    "\n",
    "nums1 = [1, 2, 2, 1]\n",
    "nums2 = [2, 2]\n",
    "result = intersection(nums1, nums2)\n",
    "print(result)"
   ]
  },
  {
   "cell_type": "code",
   "execution_count": 10,
   "id": "d89463e4",
   "metadata": {},
   "outputs": [
    {
     "name": "stdout",
     "output_type": "stream",
     "text": [
      "[2, 2]\n"
     ]
    }
   ],
   "source": [
    "# Question 8.\n",
    "def intersect(nums1, nums2):\n",
    "    dict1 = {}\n",
    "    dict2 = {}\n",
    "\n",
    "    for num in nums1:\n",
    "        dict1[num] = dict1.get(num, 0) + 1\n",
    "\n",
    "    for num in nums2:\n",
    "        dict2[num] = dict2.get(num, 0) + 1\n",
    "\n",
    "    intersection = []\n",
    "    for num in dict1:\n",
    "        if num in dict2:\n",
    "            count = min(dict1[num], dict2[num])\n",
    "            intersection.extend([num] * count)\n",
    "\n",
    "    return intersection\n",
    "\n",
    "nums1 = [1, 2, 2, 1]\n",
    "nums2 = [2, 2]\n",
    "result = intersect(nums1, nums2)\n",
    "print(result)"
   ]
  },
  {
   "cell_type": "code",
   "execution_count": null,
   "id": "d549725c",
   "metadata": {},
   "outputs": [],
   "source": []
  }
 ],
 "metadata": {
  "kernelspec": {
   "display_name": "Python 3 (ipykernel)",
   "language": "python",
   "name": "python3"
  },
  "language_info": {
   "codemirror_mode": {
    "name": "ipython",
    "version": 3
   },
   "file_extension": ".py",
   "mimetype": "text/x-python",
   "name": "python",
   "nbconvert_exporter": "python",
   "pygments_lexer": "ipython3",
   "version": "3.10.9"
  }
 },
 "nbformat": 4,
 "nbformat_minor": 5
}
