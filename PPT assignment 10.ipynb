{
 "cells": [
  {
   "cell_type": "code",
   "execution_count": 12,
   "id": "f7699653",
   "metadata": {},
   "outputs": [
    {
     "name": "stdout",
     "output_type": "stream",
     "text": [
      "True\n",
      "False\n",
      "False\n"
     ]
    }
   ],
   "source": [
    "'''Question 1\n",
    "\n",
    "Given an integer n, return true if it is a power of three. Otherwise, return false.\n",
    "An integer n is a power of three, if there exists an integer x such that n == 3x.\n",
    "Example 1:\n",
    "Input: n = 27\n",
    "Output: true\n",
    "Explanation: 27 = 33\n",
    "​\n",
    "Example 2:\n",
    "Input: n = 0\n",
    "Output: false\n",
    "Explanation: There is no x where 3x = 0.\n",
    "\n",
    "​\n",
    "Example 3:\n",
    "Input: n = -1\n",
    "Output: false\n",
    "Explanation: There is no x where 3x = (-1).'''\n",
    "\n",
    "def power_of_three(n):\n",
    "    if n <= 0:\n",
    "        return False\n",
    "\n",
    "    while n % 3 == 0:\n",
    "\n",
    "          n = n/3\n",
    "    return n == 1\n",
    "\n",
    "print(power_of_three(27))  \n",
    "print(power_of_three(0))  \n",
    "print(power_of_three(-1)) \n"
   ]
  },
  {
   "cell_type": "code",
   "execution_count": 13,
   "id": "57a502b1",
   "metadata": {},
   "outputs": [
    {
     "name": "stdout",
     "output_type": "stream",
     "text": [
      "6\n",
      "1\n"
     ]
    }
   ],
   "source": [
    "'''Question 2\n",
    "\n",
    "You have a list arr of all integers in the range [1, n] sorted in a strictly increasing order. Apply the following algorithm on arr:\n",
    "Starting from left to right, remove the first number and every other number afterward until you reach the end of the list.\n",
    "Repeat the previous step again, but this time from right to left, remove the rightmost number and every other number from the remaining numbers.\n",
    "Keep repeating the steps again, alternating left to right and right to left, until a single number remains.\n",
    "Given the integer n, return the last number that remains in arr.\n",
    "Example 1:\n",
    "Input: n = 9\n",
    "Output: 6\n",
    "Explanation:\n",
    "arr = [1, 2,3, 4,5, 6,7, 8,9]\n",
    "arr = [2,4, 6,8]\n",
    "arr = [2, 6]\n",
    "arr = [6]\n",
    "\n",
    "​\n",
    "Example 2:\n",
    "Input: n = 1\n",
    "Output: 1'''\n",
    "\n",
    "def last_remaining(n):\n",
    "    arr = list(range(1, n + 1))\n",
    "    a = True\n",
    "    remaining = 1\n",
    "    step = 1\n",
    "\n",
    "    while n > 1:\n",
    "        if a:\n",
    "            remaining = arr[0]\n",
    "            arr = arr[1::2]\n",
    "        else:\n",
    "            remaining = arr[-1]\n",
    "            arr = arr[-2::-2]\n",
    "\n",
    "        a = not a\n",
    "        n //= 2\n",
    "\n",
    "    return remaining\n",
    "print(last_remaining(9)) \n",
    "print(last_remaining(1)) \n",
    "\n"
   ]
  },
  {
   "cell_type": "code",
   "execution_count": 3,
   "id": "b06413d0",
   "metadata": {},
   "outputs": [
    {
     "name": "stdout",
     "output_type": "stream",
     "text": [
      "['', 'c', 'b', 'bc', 'a', 'ac', 'ab', 'abc']\n",
      "['', 'd', 'c', 'cd', 'b', 'bd', 'bc', 'bcd', 'a', 'ad', 'ac', 'acd', 'ab', 'abd', 'abc', 'abcd']\n"
     ]
    }
   ],
   "source": [
    "'''Question 3\n",
    "\n",
    "Given a set represented as a string, write a recursive code to print all subsets of it. The subsets can be printed in any order.\n",
    "Example 1:\n",
    "Input :  set = “abc”\n",
    "Output : { “”, “a”, “b”, “c”, “ab”, “ac”, “bc”, “abc”}\n",
    "Example 2:\n",
    "Input : set = “abcd”\n",
    "Output : { “”, “a” ,”ab” ,”abc” ,”abcd”, “abd” ,”ac” ,”acd”, “ad” ,”b”, “bc” ,”bcd” ,”bd” ,”c” ,”cd” ,”d” }'''\n",
    "\n",
    "def print_subsets(set_str):\n",
    "    subsets = []\n",
    "\n",
    "    def generate_subsets(set_str, current_subset, index):\n",
    "        if index == len(set_str):\n",
    "            subsets.append(current_subset)\n",
    "            return\n",
    "\n",
    "        generate_subsets(set_str, current_subset, index + 1)\n",
    "        generate_subsets(set_str, current_subset + set_str[index], index + 1)\n",
    "\n",
    "    generate_subsets(set_str, \"\", 0)\n",
    "    return subsets\n",
    "print(print_subsets(\"abc\"))   \n",
    "print(print_subsets(\"abcd\")) "
   ]
  },
  {
   "cell_type": "code",
   "execution_count": 4,
   "id": "2b5d3dff",
   "metadata": {},
   "outputs": [
    {
     "name": "stdout",
     "output_type": "stream",
     "text": [
      "4\n",
      "13\n"
     ]
    }
   ],
   "source": [
    "'''Question 4\n",
    "Given a string calculate length of the string using recursion.\n",
    "Examples:\n",
    "Input : str = \"abcd\"\n",
    "Output :4\n",
    "\n",
    "Input : str = \"GEEKSFORGEEKS\"\n",
    "Output :13'''\n",
    "\n",
    "def calculate_length(str):\n",
    "    def calculate_length_recursive(str, index):\n",
    "        if index == len(str):\n",
    "            return 0\n",
    "        return 1 + calculate_length_recursive(str, index + 1)\n",
    "\n",
    "    return calculate_length_recursive(str, 0)\n",
    "print(calculate_length(\"abcd\"))           \n",
    "print(calculate_length(\"GEEKSFORGEEKS\"))  \n"
   ]
  },
  {
   "cell_type": "code",
   "execution_count": 15,
   "id": "ff5a5f3e",
   "metadata": {},
   "outputs": [
    {
     "name": "stdout",
     "output_type": "stream",
     "text": [
      "5\n",
      "4\n"
     ]
    }
   ],
   "source": [
    "'''Question 5\n",
    "\n",
    "We are given a string S, we need to find count of all contiguous substrings starting and ending with same character.\n",
    "Examples :\n",
    "Input  : S = \"abcab\"\n",
    "Output : 7\n",
    "There are 15 substrings of \"abcab\"\n",
    "a, ab, abc, abca, abcab, b, bc, bca\n",
    "bcab, c, ca, cab, a, ab, b\n",
    "Out of the above substrings, there\n",
    "are 7 substrings : a, abca, b, bcab,\n",
    "c, a and b.\n",
    "\n",
    "Input  : S = \"aba\"\n",
    "Output : 4\n",
    "The substrings are a, b, a and aba'''\n",
    "\n",
    "def contiguous_substrings(S):\n",
    "    count = 0\n",
    "    for i in range(len(S)):\n",
    "        count += 1\n",
    "        a = i - 1\n",
    "        b = i + 1\n",
    "        while a >= 0 and b < len(S) and S[a] == S[b]:\n",
    "            count += 1\n",
    "            a -= 1\n",
    "            b += 1\n",
    "    return count\n",
    "\n",
    "print(contiguous_substrings(\"abcab\"))  \n",
    "print(contiguous_substrings(\"aba\"))    \n"
   ]
  },
  {
   "cell_type": "code",
   "execution_count": 19,
   "id": "a21e4478",
   "metadata": {},
   "outputs": [
    {
     "name": "stdout",
     "output_type": "stream",
     "text": [
      "move disk 1 from rod 1 to rod 2\n",
      "move disk 2 from rod 1 to rod 3\n",
      "move disk 1 from rod 2 to rod 3\n",
      "3\n",
      "move disk 1 from rod 1 to rod 3\n",
      "move disk 2 from rod 1 to rod 2\n",
      "move disk 1 from rod 3 to rod 2\n",
      "move disk 3 from rod 1 to rod 3\n",
      "move disk 1 from rod 2 to rod 1\n",
      "move disk 2 from rod 2 to rod 3\n",
      "move disk 1 from rod 1 to rod 3\n",
      "7\n"
     ]
    }
   ],
   "source": [
    "'''Question 6\n",
    "\n",
    "The tower of Hanoi is a famous puzzle where we have three rods and N disks. The objective of the puzzle is to move the entire stack to another rod. You are given the number of discs N. Initially, these discs are in the rod 1. You need to print all the steps of discs movement so that all the discs reach the 3rd rod. Also, you need to find the total moves.Note: The discs are arranged such that the top disc is numbered 1 and the bottom-most disc is numbered N. Also, all the discs have different sizes and a bigger disc cannot be put on the top of a smaller disc. Refer the provided link to get a better clarity about the puzzle.\n",
    "Example 1:\n",
    "Input:\n",
    "N = 2\n",
    "Output:\n",
    "move disk 1 from rod 1 to rod 2\n",
    "move disk 2 from rod 1 to rod 3\n",
    "move disk 1 from rod 2 to rod 3\n",
    "3\n",
    "Explanation:For N=2 , steps will be\n",
    "as follows in the example and total\n",
    "3 steps will be taken.\n",
    "​\n",
    "Example 2:\n",
    "Input:\n",
    "N = 3\n",
    "Output:\n",
    "move disk 1 from rod 1 to rod 3\n",
    "move disk 2 from rod 1 to rod 2\n",
    "move disk 1 from rod 3 to rod 2\n",
    "move disk 3 from rod 1 to rod 3\n",
    "move disk 1 from rod 2 to rod 1\n",
    "move disk 2 from rod 2 to rod 3\n",
    "move disk 1 from rod 1 to rod 3\n",
    "7\n",
    "Explanation:For N=3 , steps will be\n",
    "as follows in the example and total\n",
    "7 steps will be taken.'''\n",
    "\n",
    "\n",
    "def tower_of_hanoi(N, source, auxiliary, destination, moves):\n",
    "    if N == 1:\n",
    "        print(\"move disk 1 from rod\", source, \"to rod\", destination)\n",
    "        moves += 1\n",
    "        return moves\n",
    "\n",
    "    moves = tower_of_hanoi(N-1, source, destination, auxiliary, moves)\n",
    "    print(\"move disk\", N, \"from rod\", source, \"to rod\", destination)\n",
    "    moves += 1\n",
    "    moves = tower_of_hanoi(N-1, auxiliary, source, destination, moves)\n",
    "\n",
    "    return moves\n",
    "\n",
    "\n",
    "def solve_tower_of_hanoi(N):\n",
    "    moves = tower_of_hanoi(N, 1, 2, 3, 0)\n",
    "    return moves\n",
    "print(solve_tower_of_hanoi(2)) \n",
    "print(solve_tower_of_hanoi(3))  \n"
   ]
  },
  {
   "cell_type": "code",
   "execution_count": 7,
   "id": "052c3c5b",
   "metadata": {},
   "outputs": [
    {
     "name": "stdout",
     "output_type": "stream",
     "text": [
      "{'dc', 'cd'}\n",
      "{'bab', 'bba', 'abb'}\n"
     ]
    }
   ],
   "source": [
    "'''Question 7\n",
    "\n",
    "Given a string str, the task is to print all the permutations of str. A permutation is an arrangement of all or part of a set of objects, with regard to the order of the arrangement. For instance, the words ‘bat’ and ‘tab’ represents two distinct permutation (or arrangements) of a similar three letter word.\n",
    "Examples:\n",
    "Input: str = “cd”\n",
    "Output: cd dc\n",
    "Input: str = “abb”\n",
    "Output: abb abb bab bba bab bba'''\n",
    "\n",
    "def permutations(str, prefix, result):\n",
    "    if len(str) == 0:\n",
    "        result.add(prefix)\n",
    "        return\n",
    "\n",
    "    for i in range(len(str)):\n",
    "        ch = str[i]\n",
    "        remaining_str = str[:i] + str[i+1:]\n",
    "        permutations(remaining_str, prefix + ch, result)\n",
    "\n",
    "\n",
    "def print_permutations(str):\n",
    "    result_set = set()\n",
    "    permutations(str, \"\", result_set)\n",
    "    return result_set\n",
    "print(print_permutations(\"cd\"))  \n",
    "print(print_permutations(\"abb\"))\n"
   ]
  },
  {
   "cell_type": "code",
   "execution_count": 20,
   "id": "7168a14b",
   "metadata": {},
   "outputs": [
    {
     "name": "stdout",
     "output_type": "stream",
     "text": [
      "3\n",
      "12\n"
     ]
    }
   ],
   "source": [
    "'''Question 8\n",
    "Given a string, count total number of consonants in it. A consonant is an English alphabet character that is not vowel (a, e, i, o and u). Examples of constants are b, c, d, f, and g.\n",
    "Examples :\n",
    "Input : abc de\n",
    "Output : 3\n",
    "There are three consonants b, c and d.\n",
    "\n",
    "Input : geeksforgeeks portal\n",
    "Output : 12'''\n",
    "\n",
    "def consonants(str):\n",
    "    count = 0\n",
    "    str = str.lower()\n",
    "    for ch in str:\n",
    "        if ch.isalpha() and ch not in 'aeiou':\n",
    "            count += 1\n",
    "    return count\n",
    "print(consonants(\"abc de\"))               \n",
    "print(consonants(\"geeksforgeeks portal\"))\n"
   ]
  },
  {
   "cell_type": "code",
   "execution_count": null,
   "id": "07f98355",
   "metadata": {},
   "outputs": [],
   "source": []
  }
 ],
 "metadata": {
  "kernelspec": {
   "display_name": "Python 3 (ipykernel)",
   "language": "python",
   "name": "python3"
  },
  "language_info": {
   "codemirror_mode": {
    "name": "ipython",
    "version": 3
   },
   "file_extension": ".py",
   "mimetype": "text/x-python",
   "name": "python",
   "nbconvert_exporter": "python",
   "pygments_lexer": "ipython3",
   "version": "3.9.12"
  }
 },
 "nbformat": 4,
 "nbformat_minor": 5
}
